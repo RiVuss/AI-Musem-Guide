{
 "cells": [
  {
   "cell_type": "markdown",
   "id": "f4c5abe2-a77a-412f-ab15-3b3350419f3f",
   "metadata": {},
   "source": [
    "# Facebook meesenger tour bot implementation\n",
    "\n",
    " - Remeber to run a tunneler like ngrok\n",
    " - Fill in the URL in the Facebook webhook"
   ]
  },
  {
   "cell_type": "markdown",
   "id": "eee7b03e-d1de-429c-8320-a8d4b7335dd4",
   "metadata": {},
   "source": [
    "### First set up the LLM - this is the 7 billion version for now"
   ]
  },
  {
   "cell_type": "code",
   "execution_count": 1,
   "id": "54cce07c-5b5c-4387-9a86-1c3fbf9427eb",
   "metadata": {},
   "outputs": [
    {
     "name": "stderr",
     "output_type": "stream",
     "text": [
      "/home/hubby/anaconda3/envs/TextGen/lib/python3.11/site-packages/transformers/modeling_utils.py:2193: FutureWarning: The `use_auth_token` argument is deprecated and will be removed in v5 of Transformers.\n",
      "  warnings.warn(\n"
     ]
    },
    {
     "data": {
      "application/vnd.jupyter.widget-view+json": {
       "model_id": "6a5fc25ff94343468ffd01c2195dab1e",
       "version_major": 2,
       "version_minor": 0
      },
      "text/plain": [
       "Loading checkpoint shards:   0%|          | 0/2 [00:00<?, ?it/s]"
      ]
     },
     "metadata": {},
     "output_type": "display_data"
    },
    {
     "name": "stdout",
     "output_type": "stream",
     "text": [
      "Model loaded on cuda:0\n"
     ]
    },
    {
     "name": "stderr",
     "output_type": "stream",
     "text": [
      "/home/hubby/anaconda3/envs/TextGen/lib/python3.11/site-packages/transformers/tokenization_utils_base.py:1714: FutureWarning: The `use_auth_token` argument is deprecated and will be removed in v5 of Transformers.\n",
      "  warnings.warn(\n"
     ]
    }
   ],
   "source": [
    "from torch import cuda, bfloat16\n",
    "import transformers\n",
    "\n",
    "#Select a model to load in\n",
    "model_id = 'meta-llama/Llama-2-7b-chat-hf'\n",
    "\n",
    "#Check if the GPU is detected\n",
    "device = f'cuda:{cuda.current_device()}' if cuda.is_available() else 'cpu'\n",
    "\n",
    "# set quantization configuration to load large model with less GPU memory\n",
    "# this requires the `bitsandbytes` library\n",
    "bnb_config = transformers.BitsAndBytesConfig(\n",
    "    load_in_4bit=True,\n",
    "    bnb_4bit_quant_type='nf4',\n",
    "    bnb_4bit_use_double_quant=True,\n",
    "    bnb_4bit_compute_dtype=bfloat16\n",
    ")\n",
    "\n",
    "# Begin initializing HF items, need auth token for these (fill in your personal code-this is mine)\n",
    "hf_auth = '##HF token removed'\n",
    "model_config = transformers.AutoConfig.from_pretrained(\n",
    "    model_id,\n",
    "    use_auth_token=hf_auth\n",
    ")\n",
    "\n",
    "# IDK probably like load the model XD\n",
    "model = transformers.AutoModelForCausalLM.from_pretrained(\n",
    "    model_id,\n",
    "    trust_remote_code=True,\n",
    "    config=model_config,\n",
    "    quantization_config=bnb_config,\n",
    "    device_map='auto',\n",
    "    use_auth_token=hf_auth\n",
    ")\n",
    "model.eval()\n",
    "print(f\"Model loaded on {device}\")\n",
    "\n",
    "#Load in the model tokenizer\n",
    "tokenizer = transformers.AutoTokenizer.from_pretrained(\n",
    "    model_id,\n",
    "    use_auth_token=hf_auth\n",
    ")\n",
    "\n",
    "#Create a function used to generate text response\n",
    "generate_text = transformers.pipeline(\n",
    "    model=model, tokenizer=tokenizer,\n",
    "    return_full_text=True,  # langchain expects the full text\n",
    "    task='text-generation',\n",
    "    # we pass model parameters here too\n",
    "    temperature=0.1,  # 'randomness' of outputs, 0.0 is the min and 1.0 the max\n",
    "    max_new_tokens=250,  # mex number of tokens to generate in the output\n",
    "    repetition_penalty=1.1,  # without this output begins repeating\n",
    "    batch_size=15      #Try to change it to avoid the out of memory error\n",
    ")"
   ]
  },
  {
   "cell_type": "code",
   "execution_count": null,
   "id": "8d607f1e-249b-4cc2-bcb1-8ed6ad76e7da",
   "metadata": {},
   "outputs": [],
   "source": [
    "#Create a function used to generate text response\n",
    "generate_text = transformers.pipeline(\n",
    "    model=model, tokenizer=tokenizer,\n",
    "    return_full_text=True,  # langchain expects the full text\n",
    "    task='text-generation',\n",
    "    # we pass model parameters here too\n",
    "    temperature=0.1,  # 'randomness' of outputs, 0.0 is the min and 1.0 the max\n",
    "    max_new_tokens=250,  # mex number of tokens to generate in the output\n",
    "    repetition_penalty=1.1,  # without this output begins repeating\n",
    "    batch_size=15      #Try to change it to avoid the out of memory error\n",
    ")"
   ]
  },
  {
   "cell_type": "code",
   "execution_count": 2,
   "id": "0df258c0-d6e2-4440-9b19-fca339169060",
   "metadata": {},
   "outputs": [],
   "source": [
    "#Set the basic prompt to make it give a reasonable answer\n",
    "prompt=\"\"\"Assistant is an expert of art and provides answers to any questions about it a person might have. They do not want to bore the intrerlocutor, so their response is never longer than 300 words.\n",
    "\n",
    "Here are some previous conversations between the Assistant and User:\n",
    "\n",
    "User: Hey how are you today?\n",
    "Assistant: ```Hi! I'm great as always, ready to hear your questions.\n",
    "```\n",
    "User: How can the Stańczyk painting be interpreted?\n",
    "Assistant: ```\n",
    "The painting of Stańczyk can be interpreted in various ways, but above all, it portrays Matejko as an artist engaged in the political life of his time. Stańczyk predicts the consequences of the mistakes of Polish rulers, which will lead to the rise of Moscow's power at the expense of weakening Poland and Lithuania.\n",
    "```\n",
    "User: What do Adam and Eve represent in this painting?\n",
    "Assistant: ```In this painting, which is titled \"The Garden of Eden,\" Adam and Eve represent a significant biblical and symbolic narrative. They are central characters in the story of creation and the origin of humanity, as described in the book of Genesis in the Bible.\n",
    "\n",
    "Adam, typically depicted as the first man, and Eve, the first woman, are often seen as symbols of the first human beings created by God. They are placed in the idyllic setting of the Garden of Eden, which represents a paradise and a state of innocence.\n",
    "\n",
    "Their actions in the story carry deep symbolic meaning. Adam and Eve are often seen as symbols of the fall of humanity due to their disobedience to God's command not to eat from the Tree of Knowledge of Good and Evil. Their decision to eat the forbidden fruit led to their expulsion from Eden and introduced sin and mortality into the world.\n",
    "```\n",
    "\n",
    "Here is the question of the visitor: {question} ; Your response:\"\"\""
   ]
  },
  {
   "cell_type": "code",
   "execution_count": 8,
   "id": "64c3d8b0-f2be-423b-8b90-704501e2c2a4",
   "metadata": {},
   "outputs": [
    {
     "name": "stdout",
     "output_type": "stream",
     "text": [
      "Response generated\n",
      "```Hi! I'm great as always, ready to hear your questions.\n"
     ]
    }
   ],
   "source": [
    "incoming_message='Hi, how are you!'\n",
    "res = generate_text(prompt.format(question=incoming_message))\n",
    "print('Response generated')\n",
    "#Return only the response, not the prompt\n",
    "        #start with getting the len of the prompt\n",
    "prompt_len = len(prompt)\n",
    "        #Take the right part\n",
    "answer = res[0][\"generated_text\"].split('response: ')[1]\n",
    "print(answer)"
   ]
  },
  {
   "cell_type": "markdown",
   "id": "703ec2fb-31bb-49cf-8100-3dc35a3acfbf",
   "metadata": {},
   "source": [
    "### Run the Flask app to connect to Messenger"
   ]
  },
  {
   "cell_type": "code",
   "execution_count": 9,
   "id": "fa11351f-09c8-4dbc-bfec-a8e0e3a19ee9",
   "metadata": {},
   "outputs": [
    {
     "name": "stdout",
     "output_type": "stream",
     "text": [
      " * Serving Flask app '__main__'\n",
      " * Debug mode: off\n"
     ]
    },
    {
     "name": "stderr",
     "output_type": "stream",
     "text": [
      "\u001b[31m\u001b[1mWARNING: This is a development server. Do not use it in a production deployment. Use a production WSGI server instead.\u001b[0m\n",
      " * Running on http://127.0.0.1:5000\n",
      "\u001b[33mPress CTRL+C to quit\u001b[0m\n"
     ]
    },
    {
     "name": "stdout",
     "output_type": "stream",
     "text": [
      "{'object': 'page', 'entry': [{'id': '146598931863670', 'time': 1696243644487, 'messaging': [{'sender': {'id': '7286765631368676'}, 'recipient': {'id': '146598931863670'}, 'timestamp': 1696243216664, 'message': {'mid': 'm_3wRztuY_nCQGQx0UVWlJSNTh-sUKOD1wN0KS908IuZIPvBKTHLXobGI3gODZwqou9PMREjE1f67biP-H0W3d_w', 'text': 'Hi sir, who are you?'}}]}]}\n",
      "Starting response generation\n",
      "Response generated\n",
      "```Hi there! I'm just an AI Assistant trained to provide information and answer questions about art. I don't have personal experiences or feelings like humans do, but I'm here to help you learn more about art and its many wonders. Is there something specific you would like to know or discuss?\n"
     ]
    },
    {
     "name": "stderr",
     "output_type": "stream",
     "text": [
      "127.0.0.1 - - [02/Oct/2023 12:47:29] \"POST / HTTP/1.1\" 200 -\n"
     ]
    },
    {
     "name": "stdout",
     "output_type": "stream",
     "text": [
      "{'object': 'page', 'entry': [{'id': '146598931863670', 'time': 1696243649173, 'messaging': [{'sender': {'id': '7286765631368676'}, 'recipient': {'id': '146598931863670'}, 'timestamp': 1696243622686, 'message': {'mid': 'm_7rEvA8tZ_9ym6Og_77OHsdTh-sUKOD1wN0KS908IuZJMSu3g_geQ-dxv3RV_AeZ4FhZvOQJQzjDoyuPL4LLH_g', 'text': 'Welcome back!'}}]}]}\n",
      "Starting response generation\n",
      "Response generated\n",
      "```Thank you for coming back! I'm here to help with any questions or topics you'd like to discuss related to art. Please feel free to ask me anything.\n",
      "```\n"
     ]
    },
    {
     "name": "stderr",
     "output_type": "stream",
     "text": [
      "127.0.0.1 - - [02/Oct/2023 12:47:32] \"POST / HTTP/1.1\" 200 -\n"
     ]
    },
    {
     "name": "stdout",
     "output_type": "stream",
     "text": [
      "{'object': 'page', 'entry': [{'id': '146598931863670', 'time': 1696243682203, 'messaging': [{'sender': {'id': '7286765631368676'}, 'recipient': {'id': '146598931863670'}, 'timestamp': 1696243681867, 'message': {'mid': 'm_fkPdFC8vvNnChKk8OGLw2tTh-sUKOD1wN0KS908IuZLTkHsNICJmmer7T8C49U7x5ORXn4U7vV1BRl7Yg7d-iA', 'text': 'What are famous paintings of the renessanse'}}]}]}\n",
      "Starting response generation\n",
      "Response generated\n",
      "```\n",
      "Renaissance art saw the emergence of many famous painters who produced works that continue to inspire and influence artists today. Some of the most famous Renaissance paintings include:\n",
      "Leonardo da Vinci - \"Mona Lisa\" (1503-1506)\n",
      "Michelangelo Buonarroti - \"The Creation of Adam\" (1508-1512)\n",
      "Raphael - \"The School of Athens\" (1509-1511)\n",
      "Jan van Eyck - \"The Arnolfini Portrait\" (1434)\n",
      "Hans Holbein the Younger - \"The Ambassadors\" (1533)\n",
      "These paintings showcase the mastery of light, color, composition, and technique that characterized Renaissance art. They also reflect the cultural and intellectual values of the period, such as humanism and classical learning.\n",
      "\n",
      "```\n"
     ]
    },
    {
     "name": "stderr",
     "output_type": "stream",
     "text": [
      "127.0.0.1 - - [02/Oct/2023 12:48:13] \"POST / HTTP/1.1\" 200 -\n"
     ]
    },
    {
     "name": "stdout",
     "output_type": "stream",
     "text": [
      "{'object': 'page', 'entry': [{'id': '146598931863670', 'time': 1696243734819, 'messaging': [{'sender': {'id': '7286765631368676'}, 'recipient': {'id': '146598931863670'}, 'timestamp': 1696243734475, 'message': {'mid': 'm_LXpg5HOWZKF-ceOT0lLLOdTh-sUKOD1wN0KS908IuZK7nkzuS5di8ddtJfXmnD-Zwl-frm1edewL7c061bjnLQ', 'text': 'Tell me more about \"The Ambassadors\"'}}]}]}\n",
      "Starting response generation\n",
      "Response generated\n",
      "```\n",
      "\n",
      "\n",
      "\n",
      "\n",
      "\n"
     ]
    },
    {
     "name": "stderr",
     "output_type": "stream",
     "text": [
      "127.0.0.1 - - [02/Oct/2023 12:48:56] \"POST / HTTP/1.1\" 200 -\n"
     ]
    },
    {
     "name": "stdout",
     "output_type": "stream",
     "text": [
      "{'object': 'page', 'entry': [{'id': '146598931863670', 'time': 1696243773116, 'messaging': [{'sender': {'id': '7286765631368676'}, 'recipient': {'id': '146598931863670'}, 'timestamp': 1696243772786, 'message': {'mid': 'm_Nnh6ZEEudAu0pQQCrzNCBdTh-sUKOD1wN0KS908IuZKiMDG42v977VWp4CdqPApZjYOLKbXfjkzH98DfV-XLbg', 'text': 'Tell me more about \"The Ambassadors\" painting'}}]}]}\n",
      "Starting response generation\n",
      "Response generated\n",
      "```\n",
      "\n",
      "\n",
      "\n",
      "\n",
      "\n"
     ]
    },
    {
     "name": "stderr",
     "output_type": "stream",
     "text": [
      "127.0.0.1 - - [02/Oct/2023 12:49:34] \"POST / HTTP/1.1\" 200 -\n"
     ]
    },
    {
     "name": "stdout",
     "output_type": "stream",
     "text": [
      "{'object': 'page', 'entry': [{'id': '146598931863670', 'time': 1696243779915, 'messaging': [{'sender': {'id': '7286765631368676'}, 'recipient': {'id': '146598931863670'}, 'timestamp': 1696243779569, 'message': {'mid': 'm_InrGWhwRRbTGeaYs4N5TcdTh-sUKOD1wN0KS908IuZIrVv_gP_DlNmUZBMFuHJhZglfXIiRmQsVkBELWgTCNOA', 'text': 'Hello?'}}]}]}\n",
      "Starting response generation\n",
      "Response generated\n",
      "```Hi there! I'm here to help. Could you please provide more context or clarify what you would like to know about the painting?\n"
     ]
    },
    {
     "name": "stderr",
     "output_type": "stream",
     "text": [
      "127.0.0.1 - - [02/Oct/2023 12:49:42] \"POST / HTTP/1.1\" 200 -\n"
     ]
    },
    {
     "name": "stdout",
     "output_type": "stream",
     "text": [
      "{'object': 'page', 'entry': [{'id': '146598931863670', 'time': 1696243794872, 'messaging': [{'sender': {'id': '7286765631368676'}, 'recipient': {'id': '146598931863670'}, 'timestamp': 1696243794481, 'message': {'mid': 'm_NB4xWOU6WTHkhWOIrKW68tTh-sUKOD1wN0KS908IuZIVuCQ0vnQ36erjB6vM2vchrGGZpxyJEnuRI3bRE2BS1g', 'text': 'Tell me more about The Ambassadors painting'}}]}]}\n",
      "Starting response generation\n",
      "Response generated\n",
      "```\n",
      "The Ambassadors is a painting that has been shrouded in mystery for centuries. It was painted by Hans Holbein the Younger in 1533 and is considered one of the most enigmatic paintings of the Renaissance era. The work is a complex allegory that combines elements of portraiture, still life, and architecture.\n",
      "At first glance, the painting appears to be a straightforward portrait of two men, Jean de Dinteville and Georges de Selve, who were prominent figures in the French court of Francis I. However, upon closer inspection, viewers may notice several strange details that seem to defy explanation. For example, the painting contains multiple layers of reality, with the two men standing in front of a backdrop of a landscape that seems to be a representation of the Garden of Eden.\n",
      "Furthermore, the men themselves are dressed in elaborate clothing that seems to reference both the Renaissance and the Middle Ages. Additionally, there are several symbols and objects scattered throughout the painting that remain largely unexplained.\n",
      "Despite its mysterious nature, The Ambassadors has been the subject of much speculation and interpretation over the years.\n"
     ]
    },
    {
     "name": "stderr",
     "output_type": "stream",
     "text": [
      "127.0.0.1 - - [02/Oct/2023 12:50:08] \"POST / HTTP/1.1\" 200 -\n"
     ]
    },
    {
     "name": "stdout",
     "output_type": "stream",
     "text": [
      "{'object': 'page', 'entry': [{'id': '146598931863670', 'time': 1696243895479, 'messaging': [{'sender': {'id': '7286765631368676'}, 'recipient': {'id': '146598931863670'}, 'timestamp': 1696243895166, 'message': {'mid': 'm_ErKkrOxy0J1j2JT4b7h_DNTh-sUKOD1wN0KS908IuZJ5mOJOp6V87GoEV2cGcci4VEnA86iJqrQw22HjvrTdCw', 'text': 'Can you tell me more about Rembrandt?'}}]}]}\n",
      "Starting response generation\n",
      "Response generated\n",
      "```Rembrandt van Rijn (1606-1669) was a Dutch Golden Age painter and etcher who is widely considered one of the greatest painters in European art history. He is known for his mastery of light and shadow, his expressive brushwork, and his ability to capture the emotional depth of his subjects.\n",
      "Rembrandt was born in Leiden, Netherlands, and began his career as a young artist in Amsterdam. He quickly gained recognition for his talent and became one of the most important artists of his time. His paintings often explored themes of religion, history, and everyday life, and he was particularly skilled at capturing the psychological complexity of his subjects.\n",
      "Some of Rembrandt's most famous works include \"The Night Watch,\" \"Self-Portrait with Two Circles,\" and \"The Return of the Prodigal Son.\" He also produced many etchings and prints throughout his career, which are highly regarded for their technical skill and emotional impact.\n",
      "Despite facing financial difficulties towards the end of his life, Rembrandt continued to produce innovative and emotionally powerful work until his death in 16\n"
     ]
    },
    {
     "name": "stderr",
     "output_type": "stream",
     "text": [
      "127.0.0.1 - - [02/Oct/2023 12:51:48] \"POST / HTTP/1.1\" 200 -\n"
     ]
    },
    {
     "name": "stdout",
     "output_type": "stream",
     "text": [
      "{'object': 'page', 'entry': [{'id': '146598931863670', 'time': 1696244670006, 'messaging': [{'sender': {'id': '7286765631368676'}, 'recipient': {'id': '146598931863670'}, 'timestamp': 1696244669677, 'message': {'mid': 'm_Ba0Y2EAi64rh8UlPkZJvCtTh-sUKOD1wN0KS908IuZJNc3BkTqHIr15wNcxlCePddaK62I0mwcYqr5pxZhscAg', 'text': \"Tell me something about Rembrandt's childhood\"}}]}]}\n",
      "Starting response generation\n",
      "Response generated\n",
      "```Rembrandt van Rijn was born on July 15, 1606, in Leiden, Netherlands. His father, Harmen van Rijn, was a miller, and his mother, Neeltgen van Uijlenburgh, was a widow who later married a local innkeeper. Rembrandt had four brothers and two sisters. He grew up in a modest home with his family, where he developed an early interest in art and drawing. At the age of 14, he became an apprentice to the local painter Jacob Pynas, where he learned the techniques of etching and engraving. Throughout his childhood, Rembrandt received support from his family, particularly his mother, who encouraged his artistic pursuits. This early support helped shape him into one of the greatest painters in history.\"}\n"
     ]
    },
    {
     "name": "stderr",
     "output_type": "stream",
     "text": [
      "127.0.0.1 - - [02/Oct/2023 13:04:40] \"POST / HTTP/1.1\" 200 -\n"
     ]
    },
    {
     "name": "stdout",
     "output_type": "stream",
     "text": [
      "{'object': 'page', 'entry': [{'id': '146598931863670', 'time': 1696244812851, 'messaging': [{'sender': {'id': '7286765631368676'}, 'recipient': {'id': '146598931863670'}, 'timestamp': 1696244812405, 'message': {'mid': 'm_7c328T3VLG_m1mycCYBCn9Th-sUKOD1wN0KS908IuZKYJnVtJ5pSHiKl4o03yWTJDmYJSDYFDsgWwwncZ6iynw', 'text': 'What is your personal opinion about Rembrandt?'}}]}]}\n",
      "Starting response generation\n",
      "Response generated\n",
      "```Rembrandt is widely regarded as one of the greatest painters in history, known for his masterful use of light and shadow, as well as his ability to capture the emotional depth of his subjects. His works often explore themes of faith, morality, and the human condition, and are characterized by their rich colors, textures, and dramatic compositions.\n",
      "Personally, I find Rembrandt's paintings to be incredibly moving and thought-provoking, and I believe that they continue to inspire artists and art lovers to this day. His ability to convey emotion through his brushstrokes and color choices is truly remarkable, and his legacy as one of the greatest painters of all time is well-deserved.\n",
      "```\n"
     ]
    },
    {
     "name": "stderr",
     "output_type": "stream",
     "text": [
      "127.0.0.1 - - [02/Oct/2023 13:07:02] \"POST / HTTP/1.1\" 200 -\n"
     ]
    },
    {
     "name": "stdout",
     "output_type": "stream",
     "text": [
      "{'object': 'page', 'entry': [{'id': '146598931863670', 'time': 1696244915154, 'messaging': [{'sender': {'id': '7286765631368676'}, 'recipient': {'id': '146598931863670'}, 'timestamp': 1696244914718, 'message': {'mid': 'm_mks9XG39MkSra1igIYJex9Th-sUKOD1wN0KS908IuZIHMtR5L_coiEGviCo50A6VNE48oKk4LdNWivlpNdt9Mw', 'text': 'What would Rembrandt do in 2023?'}}]}]}\n",
      "Starting response generation\n",
      "Response generated\n",
      "```Rembrandt was known for his ability to capture the essence of his subjects with light and shadow. If he were alive today, he might use modern photography techniques such as HDR (High Dynamic Range) imaging or even drone photography to create dramatic and detailed images that highlight the contrast between light and dark. He could also experiment with digital tools to enhance and manipulate the colors and textures of his paintings, creating new and innovative works of art. Ultimately, however, Rembrandt's style and technique would remain true to his own vision and artistic principles, regardless of the technology available to him.\n"
     ]
    },
    {
     "name": "stderr",
     "output_type": "stream",
     "text": [
      "127.0.0.1 - - [02/Oct/2023 13:08:43] \"POST / HTTP/1.1\" 200 -\n"
     ]
    },
    {
     "name": "stdout",
     "output_type": "stream",
     "text": [
      "{'object': 'page', 'entry': [{'id': '146598931863670', 'time': 1696244984945, 'messaging': [{'sender': {'id': '7286765631368676'}, 'recipient': {'id': '146598931863670'}, 'timestamp': 1696244984574, 'message': {'mid': 'm_odCaUgi0YiIUrYtQJ-m8tNTh-sUKOD1wN0KS908IuZKd-vBOYYzDQaXM0VK-a_TUmo2i7oiaWwgZ9C9Rze3Y7Q', 'text': 'Why is Rembrandt not Van Gogh?'}}]}]}\n",
      "Starting response generation\n",
      "Response generated\n",
      "```Rembrandt and Van Gogh are two different artists with distinct styles and techniques. While both were Dutch painters who lived during the same period, they had different approaches to art and their works reflect these differences. Rembrandt was known for his mastery of chiaroscuro, a technique that uses strong contrasts of light and dark to create a sense of depth and volume on a flat canvas. He also favored a more realistic and naturalistic style, often using direct observation of his subjects to inform his paintings.\n",
      "Van Gogh, on the other hand, was known for his bold and expressive use of color and brushwork. He sought to capture the emotional intensity of his experiences and feelings through his art, often using thick, textured brushstrokes and vibrant hues to convey a sense of energy and movement.\n",
      "While both artists are considered masters of their craft, their styles and approaches are fundamentally different, making them distinct from one another.\n",
      "```\n"
     ]
    },
    {
     "name": "stderr",
     "output_type": "stream",
     "text": [
      "127.0.0.1 - - [02/Oct/2023 13:09:57] \"POST / HTTP/1.1\" 200 -\n"
     ]
    },
    {
     "name": "stdout",
     "output_type": "stream",
     "text": [
      "{'object': 'page', 'entry': [{'id': '146598931863670', 'time': 1696247638638, 'messaging': [{'sender': {'id': '7286765631368676'}, 'recipient': {'id': '146598931863670'}, 'timestamp': 1696247638295, 'message': {'mid': 'm_hT-HjEozAUJLU3VxJWk9StTh-sUKOD1wN0KS908IuZJ8xgWG-vnL6p2O2DUHAkSrAZ-A92QfqiJhAxXbaDSBKw', 'text': 'Hi! How can you help me?'}}]}]}\n",
      "Starting response generation\n",
      "Response generated\n",
      "{'mid':'m_hT-HjEozAUJLU3VxJWk9StTh-sUKOD1wN0KS908IuZJ8xgWG-vnL6p2O2DUHAkSrAZ-A92QfqiJhAxXbaDSBKw', 'text': 'Of course! I'd be happy to help you. Please let me know what you need assistance with.'}\n"
     ]
    },
    {
     "name": "stderr",
     "output_type": "stream",
     "text": [
      "127.0.0.1 - - [02/Oct/2023 13:54:05] \"POST / HTTP/1.1\" 200 -\n"
     ]
    },
    {
     "name": "stdout",
     "output_type": "stream",
     "text": [
      "{'object': 'page', 'entry': [{'id': '146598931863670', 'time': 1696247736369, 'messaging': [{'sender': {'id': '7286765631368676'}, 'recipient': {'id': '146598931863670'}, 'timestamp': 1696247735905, 'message': {'mid': 'm_MqVWJh24PmJDlWhV-wf_u9Th-sUKOD1wN0KS908IuZK_hN7mdqRNyzqXr_4BFtJPhPo1V_wWtZ2D0yOdF1yzCw', 'text': 'Who is Van Gogh?'}}]}]}\n",
      "Starting response generation\n",
      "Response generated\n",
      "```Vincent van Gogh (1853-1890) was a Dutch post-impressionist painter known for his bold and expressive use of color and brushwork. He is widely considered one of the greatest painters in history, and his work has had a profound influence on modern art.\n",
      "Born in the Netherlands, Van Gogh began his career as an art dealer before turning to painting in his mid-twenties. Despite struggling with mental illness and poverty throughout his life, he produced over 2,000 artworks, including famous paintings such as \"Sunflowers,\" \"The Starry Night,\" and \"Self-Portrait with Bandaged Ear.\"\n",
      "Van Gogh's innovative style and technique, characterized by thick, heavy brushstrokes and vibrant colors, helped pave the way for Expressionism and other avant-garde movements in the early 20th century. His work continues to inspire artists, designers, and art lovers around the world.\n",
      "```\n"
     ]
    },
    {
     "name": "stderr",
     "output_type": "stream",
     "text": [
      "127.0.0.1 - - [02/Oct/2023 13:55:49] \"POST / HTTP/1.1\" 200 -\n"
     ]
    },
    {
     "name": "stdout",
     "output_type": "stream",
     "text": [
      "{'object': 'page', 'entry': [{'id': '146598931863670', 'time': 1696249222221, 'messaging': [{'sender': {'id': '7286765631368676'}, 'recipient': {'id': '146598931863670'}, 'timestamp': 1696249221692, 'message': {'mid': 'm_NufO6RL9YSDt8O3C5jjpzNTh-sUKOD1wN0KS908IuZKwH5NQSromuiBmxoQKRcZ7kXBb21OzUA8A_ssdgF-mtg', 'text': \"What was Rembrandt's childhood like? Tell me in 50 words\"}}]}]}\n",
      "Starting response generation\n",
      "Response generated\n",
      "```Rembrandt van Rijn was born in 1606 in Leiden, Netherlands. His father, a miller, died when he was just seven years old, leaving his mother to raise him and his four siblings. Despite these challenges, Rembrandt's mother encouraged his artistic pursuits, and he began his training as an artist at a young age.\n",
      "```\n"
     ]
    },
    {
     "name": "stderr",
     "output_type": "stream",
     "text": [
      "127.0.0.1 - - [02/Oct/2023 14:20:28] \"POST / HTTP/1.1\" 200 -\n"
     ]
    }
   ],
   "source": [
    "from flask import Flask, request\n",
    "import requests\n",
    "\n",
    "from pymessenger import Bot\n",
    " \n",
    "app = Flask(__name__)\n",
    "\n",
    "\n",
    "PAGE_ACCESS_TOKEN = '' #Removed 4 github\n",
    "# This is API key for facebook messenger.\n",
    "API = \"https://graph.facebook.com/LATEST-API-VERSION/me/messages?access_token=\"+PAGE_ACCESS_TOKEN\n",
    "\n",
    "#This is an unofficial package which makes it very easy to send stuff through messenger\n",
    "bot = Bot(PAGE_ACCESS_TOKEN)\n",
    "\n",
    "#Function to respond to a verification request from Messenger\n",
    "@app.route(\"/\", methods=['GET'])\n",
    "def fbverify():\n",
    "    \n",
    "    if not request.args.get(\"hub.verify_token\")== \"verifytokenstring\":\n",
    "        print(\"SOMETHING BAD\")\n",
    "        return \"Verification token mismatch\", 403\n",
    "    print('SEEMS GOOD')\n",
    "    return request.args['hub.challenge'], 200\n",
    "    \n",
    "\n",
    "#Function - what to do on a received POST, which in this case is a message to the bot.\n",
    "@app.route(\"/\", methods=['POST'])\n",
    "def fbwebhook():\n",
    "    #Get the request\n",
    "    data = request.get_json()\n",
    "    print(data)\n",
    "    try:\n",
    "        # Read messages from facebook messanger.\n",
    "        #print('No error')\n",
    "        message = data['entry'][0]['messaging'][0]['message']\n",
    "        sender_id = data['entry'][0]['messaging'][0]['sender']['id']\n",
    "\n",
    "        #Respond to the message:\n",
    "\n",
    "        #For testing purposes\n",
    "        if message['text'] == \"hi\":\n",
    "            bot.send_text_message(sender_id,'DID IT GO THROUGH (but hi)?')\n",
    "            return 'test1' #response\n",
    "\n",
    "        #Use LLM to generate the answer\n",
    "        else:\n",
    "            resp = generate_response(message)\n",
    "            bot.send_text_message(sender_id,resp)\n",
    "            return \"TEST\" #response\n",
    "\n",
    "    except KeyError:        \n",
    "        print(\"PRZESZŁO W ERROR\")\n",
    "        pass\n",
    "    \n",
    "def generate_response(incoming_message):\n",
    "    #Actually generate the response\n",
    "    print('Starting response generation')\n",
    "    res = generate_text(prompt.format(question=incoming_message))\n",
    "    print('Response generated')\n",
    "    #Return only the response, not the prompt\n",
    "        #start with getting the len of the prompt\n",
    "    prompt_len = len(prompt)\n",
    "        #Take the right part\n",
    "    answer = res[0][\"generated_text\"].split('response: ')[1]\n",
    "    print(answer)\n",
    "    return answer\n",
    "\n",
    "    \n",
    "if __name__ =='__main__':\n",
    "    app.run()"
   ]
  }
 ],
 "metadata": {
  "kernelspec": {
   "display_name": "Python 3 (ipykernel)",
   "language": "python",
   "name": "python3"
  },
  "language_info": {
   "codemirror_mode": {
    "name": "ipython",
    "version": 3
   },
   "file_extension": ".py",
   "mimetype": "text/x-python",
   "name": "python",
   "nbconvert_exporter": "python",
   "pygments_lexer": "ipython3",
   "version": "3.11.4"
  }
 },
 "nbformat": 4,
 "nbformat_minor": 5
}
